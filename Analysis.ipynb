{
 "cells": [
  {
   "cell_type": "code",
   "execution_count": 66,
   "id": "693fcb1a",
   "metadata": {},
   "outputs": [],
   "source": [
    "import pandas as pd\n",
    "import seaborn as sns\n",
    "from datetime import datetime\n",
    "import matplotlib.pyplot as plt"
   ]
  },
  {
   "cell_type": "code",
   "execution_count": 37,
   "id": "47ae46bc",
   "metadata": {},
   "outputs": [],
   "source": [
    "df = pd.read_csv('khn_data.csv', dtype={'publish_date': str})"
   ]
  },
  {
   "cell_type": "code",
   "execution_count": 40,
   "id": "37dcaffa",
   "metadata": {},
   "outputs": [
    {
     "name": "stderr",
     "output_type": "stream",
     "text": [
      "<ipython-input-40-4be4834e8ce4>:1: FutureWarning: The default value of regex will change from True to False in a future version.\n",
      "  df['publish_date'] = df['publish_date'].str.replace('\\+00:00', '')\n"
     ]
    }
   ],
   "source": [
    "df['publish_date'] = df['publish_date'].str.replace('\\+00:00', '')"
   ]
  },
  {
   "cell_type": "code",
   "execution_count": 42,
   "id": "cbeacda4",
   "metadata": {},
   "outputs": [],
   "source": [
    "df['publish_date'] = pd.to_datetime(df['publish_date'], format='%Y-%m-%d %H:%M:%S')"
   ]
  },
  {
   "cell_type": "code",
   "execution_count": 43,
   "id": "88cb3e33",
   "metadata": {},
   "outputs": [],
   "source": [
    "df['race_article'] = df['keywords'].apply(lambda x: any([k in x for k in ['race', 'racism']]))"
   ]
  },
  {
   "cell_type": "code",
   "execution_count": 44,
   "id": "18e3e2bd",
   "metadata": {},
   "outputs": [],
   "source": [
    "df['year_month'] = df['publish_date'].dt.strftime('%Y-%m')"
   ]
  },
  {
   "cell_type": "code",
   "execution_count": 45,
   "id": "f5ccd791",
   "metadata": {},
   "outputs": [
    {
     "data": {
      "text/html": [
       "<div>\n",
       "<style scoped>\n",
       "    .dataframe tbody tr th:only-of-type {\n",
       "        vertical-align: middle;\n",
       "    }\n",
       "\n",
       "    .dataframe tbody tr th {\n",
       "        vertical-align: top;\n",
       "    }\n",
       "\n",
       "    .dataframe thead th {\n",
       "        text-align: right;\n",
       "    }\n",
       "</style>\n",
       "<table border=\"1\" class=\"dataframe\">\n",
       "  <thead>\n",
       "    <tr style=\"text-align: right;\">\n",
       "      <th></th>\n",
       "      <th>headline</th>\n",
       "      <th>url</th>\n",
       "      <th>tags</th>\n",
       "      <th>summary</th>\n",
       "      <th>keywords</th>\n",
       "      <th>publish_date</th>\n",
       "      <th>authors</th>\n",
       "      <th>race_article</th>\n",
       "      <th>year_month</th>\n",
       "    </tr>\n",
       "  </thead>\n",
       "  <tbody>\n",
       "    <tr>\n",
       "      <th>0</th>\n",
       "      <td>Unvaccinated, Homebound and Now Hospitalized W...</td>\n",
       "      <td>https://khn.org/news/article/unvaccinated-home...</td>\n",
       "      <td>{'Bill Of The Month', 'Lost On The Frontline',...</td>\n",
       "      <td>Dr. Leora Horwitz treats fewer and fewer covid...</td>\n",
       "      <td>['care', 'hospitalized', 'city', 'vaccine', 'v...</td>\n",
       "      <td>2021-06-16 16:15:00</td>\n",
       "      <td>['Fred Mogul']</td>\n",
       "      <td>False</td>\n",
       "      <td>2021-06</td>\n",
       "    </tr>\n",
       "    <tr>\n",
       "      <th>1</th>\n",
       "      <td>Recibir la ayuda de FEMA para funerales de cov...</td>\n",
       "      <td>https://khn.org/news/article/recibir-la-ayuda-...</td>\n",
       "      <td>{'Bill Of The Month', 'Lost On The Frontline',...</td>\n",
       "      <td>Gálvez está esperando la respuesta de FEMA par...</td>\n",
       "      <td>['covid', 'fema', 'y', 'tenacidad', 'ayuda', '...</td>\n",
       "      <td>2021-06-16 15:22:12</td>\n",
       "      <td>[]</td>\n",
       "      <td>False</td>\n",
       "      <td>2021-06</td>\n",
       "    </tr>\n",
       "    <tr>\n",
       "      <th>2</th>\n",
       "      <td>Collecting FEMA Funeral Money Takes Some Tenac...</td>\n",
       "      <td>https://khn.org/news/article/collecting-fema-f...</td>\n",
       "      <td>{'Bill Of The Month', 'Lost On The Frontline',...</td>\n",
       "      <td>As a funeral director at Ingold Funeral and Cr...</td>\n",
       "      <td>['galvez', 'help', 'huerta', 'collecting', 'co...</td>\n",
       "      <td>2021-06-16 09:00:00</td>\n",
       "      <td>['Heidi De Marco', 'Kaiser Health News']</td>\n",
       "      <td>False</td>\n",
       "      <td>2021-06</td>\n",
       "    </tr>\n",
       "    <tr>\n",
       "      <th>3</th>\n",
       "      <td>For Toddlers, Pandemic Shapes Development Duri...</td>\n",
       "      <td>https://khn.org/news/article/for-toddlers-pand...</td>\n",
       "      <td>{'Bill Of The Month', 'Lost On The Frontline',...</td>\n",
       "      <td>But even as the nation reopens, mental health ...</td>\n",
       "      <td>['care', 'young', 'formative', 'toddlers', 'ch...</td>\n",
       "      <td>2021-06-16 09:00:00</td>\n",
       "      <td>['Leah Gullet']</td>\n",
       "      <td>False</td>\n",
       "      <td>2021-06</td>\n",
       "    </tr>\n",
       "    <tr>\n",
       "      <th>4</th>\n",
       "      <td>Being Vaccinated Doesn’t Mean You Must Go Mask...</td>\n",
       "      <td>https://khn.org/news/article/being-vaccinated-...</td>\n",
       "      <td>{'Bill Of The Month', 'Lost On The Frontline',...</td>\n",
       "      <td>For more than a year, public health officials ...</td>\n",
       "      <td>['covid', 'health', 'doesnt', 'mask', 'vaccina...</td>\n",
       "      <td>2021-06-15 09:00:00</td>\n",
       "      <td>['Bernard J. Wolfson']</td>\n",
       "      <td>False</td>\n",
       "      <td>2021-06</td>\n",
       "    </tr>\n",
       "  </tbody>\n",
       "</table>\n",
       "</div>"
      ],
      "text/plain": [
       "                                            headline  \\\n",
       "0  Unvaccinated, Homebound and Now Hospitalized W...   \n",
       "1  Recibir la ayuda de FEMA para funerales de cov...   \n",
       "2  Collecting FEMA Funeral Money Takes Some Tenac...   \n",
       "3  For Toddlers, Pandemic Shapes Development Duri...   \n",
       "4  Being Vaccinated Doesn’t Mean You Must Go Mask...   \n",
       "\n",
       "                                                 url  \\\n",
       "0  https://khn.org/news/article/unvaccinated-home...   \n",
       "1  https://khn.org/news/article/recibir-la-ayuda-...   \n",
       "2  https://khn.org/news/article/collecting-fema-f...   \n",
       "3  https://khn.org/news/article/for-toddlers-pand...   \n",
       "4  https://khn.org/news/article/being-vaccinated-...   \n",
       "\n",
       "                                                tags  \\\n",
       "0  {'Bill Of The Month', 'Lost On The Frontline',...   \n",
       "1  {'Bill Of The Month', 'Lost On The Frontline',...   \n",
       "2  {'Bill Of The Month', 'Lost On The Frontline',...   \n",
       "3  {'Bill Of The Month', 'Lost On The Frontline',...   \n",
       "4  {'Bill Of The Month', 'Lost On The Frontline',...   \n",
       "\n",
       "                                             summary  \\\n",
       "0  Dr. Leora Horwitz treats fewer and fewer covid...   \n",
       "1  Gálvez está esperando la respuesta de FEMA par...   \n",
       "2  As a funeral director at Ingold Funeral and Cr...   \n",
       "3  But even as the nation reopens, mental health ...   \n",
       "4  For more than a year, public health officials ...   \n",
       "\n",
       "                                            keywords        publish_date  \\\n",
       "0  ['care', 'hospitalized', 'city', 'vaccine', 'v... 2021-06-16 16:15:00   \n",
       "1  ['covid', 'fema', 'y', 'tenacidad', 'ayuda', '... 2021-06-16 15:22:12   \n",
       "2  ['galvez', 'help', 'huerta', 'collecting', 'co... 2021-06-16 09:00:00   \n",
       "3  ['care', 'young', 'formative', 'toddlers', 'ch... 2021-06-16 09:00:00   \n",
       "4  ['covid', 'health', 'doesnt', 'mask', 'vaccina... 2021-06-15 09:00:00   \n",
       "\n",
       "                                    authors  race_article year_month  \n",
       "0                            ['Fred Mogul']         False    2021-06  \n",
       "1                                        []         False    2021-06  \n",
       "2  ['Heidi De Marco', 'Kaiser Health News']         False    2021-06  \n",
       "3                           ['Leah Gullet']         False    2021-06  \n",
       "4                    ['Bernard J. Wolfson']         False    2021-06  "
      ]
     },
     "execution_count": 45,
     "metadata": {},
     "output_type": "execute_result"
    }
   ],
   "source": [
    "df.head()"
   ]
  },
  {
   "cell_type": "code",
   "execution_count": 72,
   "id": "1b9ef294",
   "metadata": {},
   "outputs": [],
   "source": [
    "grouped = df.groupby('year_month')['race_article'].agg(['count', 'sum', 'mean'])"
   ]
  },
  {
   "cell_type": "code",
   "execution_count": 68,
   "id": "25e663ad",
   "metadata": {},
   "outputs": [
    {
     "data": {
      "text/plain": [
       "<AxesSubplot:xlabel='year_month', ylabel='count'>"
      ]
     },
     "execution_count": 68,
     "metadata": {},
     "output_type": "execute_result"
    },
    {
     "data": {
      "image/png": "[encoded data removed]",
      "text/plain": [
       "<Figure size 432x288 with 1 Axes>"
      ]
     },
     "metadata": {
      "needs_background": "light"
     },
     "output_type": "display_data"
    }
   ],
   "source": [
    "sns.countplot(x='year_month', hue='race_article', data=df[df['race_article'] == True])"
   ]
  },
  {
   "cell_type": "code",
   "execution_count": 78,
   "id": "864c25b6",
   "metadata": {},
   "outputs": [
    {
     "data": {
      "text/plain": [
       "<AxesSubplot:xlabel='year_month', ylabel='mean'>"
      ]
     },
     "execution_count": 78,
     "metadata": {},
     "output_type": "execute_result"
    },
    {
     "data": {
      "image/png": "[encoded data removed]",
      "text/plain": [
       "<Figure size 432x288 with 1 Axes>"
      ]
     },
     "metadata": {
      "needs_background": "light"
     },
     "output_type": "display_data"
    }
   ],
   "source": [
    "sns.lineplot(x=grouped.index, y='mean', data=grouped)"
   ]
  },
  {
   "cell_type": "code",
   "execution_count": null,
   "id": "88278858",
   "metadata": {},
   "outputs": [],
   "source": []
  }
 ],
 "metadata": {
  "kernelspec": {
   "display_name": "Python 3",
   "language": "python",
   "name": "python3"
  },
  "language_info": {
   "codemirror_mode": {
    "name": "ipython",
    "version": 3
   },
   "file_extension": ".py",
   "mimetype": "text/x-python",
   "name": "python",
   "nbconvert_exporter": "python",
   "pygments_lexer": "ipython3",
   "version": "3.9.5"
  }
 },
 "nbformat": 4,
 "nbformat_minor": 5
}
